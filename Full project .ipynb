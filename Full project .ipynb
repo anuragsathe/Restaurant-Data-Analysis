{
 "cells": [
  {
   "cell_type": "markdown",
   "id": "4fa1eb1b-6741-4a48-83ea-346b19ebd563",
   "metadata": {},
   "source": [
    "# Project Title: Restaurant Data Analysis"
   ]
  },
  {
   "cell_type": "markdown",
   "id": "b7f4c6cd-b458-4c0a-a236-415d3380ef93",
   "metadata": {},
   "source": [
    "## Introduction"
   ]
  },
  {
   "cell_type": "markdown",
   "id": "98fb98c7-efba-4254-9772-e79eec4c0c59",
   "metadata": {},
   "source": [
    " \n",
    "- This project aims to analyze **restaurant data** to **understand key trends and services in the food industry**.  \n",
    "- The dataset contains information about **various restaurants, including their cuisines, locations, ratings, price ranges, online delivery options, reviews, and customer votes**.  \n",
    "- The key objectives of this project are:  \n",
    "  1. To analyze **the most popular cuisines, city-wise restaurant distribution, and rating trends**.  \n",
    "  2. To visualize **price range distribution, restaurant clusters on a map, and the impact of online delivery and table booking**.  \n",
    "  3. To build **insights on restaurant chains, review sentiment, and the correlation between pricing, services, and customer engagement**.  "
   ]
  },
  {
   "cell_type": "markdown",
   "id": "c8468ea8-afec-437e-906c-4132e845f1bc",
   "metadata": {},
   "source": [
    "### Explanation of Dataset Attributes"
   ]
  },
  {
   "cell_type": "markdown",
   "id": "bf32176e-7d89-49ca-9d39-b88231650739",
   "metadata": {},
   "source": [
    "1. **Restaurant ID** – Unique identifier for each restaurant.  \n",
    "2. **Restaurant Name** – Name of the restaurant.  \n",
    "3. **Country Code** – Numeric code representing the country.  \n",
    "4. **City** – The city where the restaurant is located.  \n",
    "5. **Address** – Full address of the restaurant.  \n",
    "6. **Locality** – The specific area or neighborhood of the restaurant.  \n",
    "7. **Locality Verbose** – Detailed locality description, including the city.  \n",
    "8. **Longitude** – Geographic longitude coordinate of the restaurant.  \n",
    "9. **Latitude** – Geographic latitude coordinate of the restaurant.  \n",
    "10. **Cuisines** – Types of cuisines offered by the restaurant.  \n",
    "11. **Average Cost for Two** – Estimated cost for two people dining.  \n",
    "12. **Currency** – The currency used for pricing.  \n",
    "13. **Has Table Booking** – Indicates if table booking is available (**Yes/No**).  \n",
    "14. **Has Online Delivery** – Indicates if the restaurant offers online delivery (**Yes/No**).  \n",
    "15. **Is Delivering Now** – Shows if the restaurant is currently delivering (**Yes/No**).  \n",
    "16. **Switch to Order Menu** – Availability of an alternative order menu (**Yes/No**).  \n",
    "17. **Price Range** – Categorizes restaurants based on their pricing level (**1 to 4**).  \n",
    "18. **Aggregate Rating** – Overall rating given by customers (**scale of 1 to 5**).  \n",
    "19. **Rating Color** – Color code representation of the rating (e.g., Dark Green for high ratings).  \n",
    "20. **Rating Text** – Text description of the rating (e.g., Excellent, Very Good, Average).  \n",
    "21. **Votes** – Number of customer votes received.  \n",
    "\n"
   ]
  },
  {
   "cell_type": "markdown",
   "id": "e9050427-f8d5-4ad3-864b-139b54312dd6",
   "metadata": {},
   "source": [
    "### Import necessary libraries"
   ]
  },
  {
   "cell_type": "code",
   "execution_count": 3,
   "id": "82e3b399-7400-4149-8e27-4eea60ecb404",
   "metadata": {},
   "outputs": [],
   "source": [
    "import pandas as pd\n",
    "import numpy as np\n",
    "import matplotlib.pyplot as plt\n",
    "import seaborn as sns"
   ]
  },
  {
   "cell_type": "markdown",
   "id": "184a7ec3-24ca-493c-b639-b837fe57dbb6",
   "metadata": {},
   "source": [
    "### Load the dataset"
   ]
  },
  {
   "cell_type": "code",
   "execution_count": 46,
   "id": "b0a590e4-c5d7-4a8d-b1f0-9f653ccc038a",
   "metadata": {},
   "outputs": [],
   "source": [
    "df = pd.read_csv(\"Cognifyz Technologies Dataset.csv\")"
   ]
  },
  {
   "cell_type": "markdown",
   "id": "ebcf034b-da03-411a-aa76-69ff3e3d5f76",
   "metadata": {},
   "source": [
    "### Display the first 5 rows of the dataset"
   ]
  },
  {
   "cell_type": "code",
   "execution_count": 5,
   "id": "076e629e-93c8-4483-b735-21bebe89030a",
   "metadata": {},
   "outputs": [
    {
     "data": {
      "text/html": [
       "<div>\n",
       "<style scoped>\n",
       "    .dataframe tbody tr th:only-of-type {\n",
       "        vertical-align: middle;\n",
       "    }\n",
       "\n",
       "    .dataframe tbody tr th {\n",
       "        vertical-align: top;\n",
       "    }\n",
       "\n",
       "    .dataframe thead th {\n",
       "        text-align: right;\n",
       "    }\n",
       "</style>\n",
       "<table border=\"1\" class=\"dataframe\">\n",
       "  <thead>\n",
       "    <tr style=\"text-align: right;\">\n",
       "      <th></th>\n",
       "      <th>Restaurant ID</th>\n",
       "      <th>Restaurant Name</th>\n",
       "      <th>Country Code</th>\n",
       "      <th>City</th>\n",
       "      <th>Address</th>\n",
       "      <th>Locality</th>\n",
       "      <th>Locality Verbose</th>\n",
       "      <th>Longitude</th>\n",
       "      <th>Latitude</th>\n",
       "      <th>Cuisines</th>\n",
       "      <th>...</th>\n",
       "      <th>Currency</th>\n",
       "      <th>Has Table booking</th>\n",
       "      <th>Has Online delivery</th>\n",
       "      <th>Is delivering now</th>\n",
       "      <th>Switch to order menu</th>\n",
       "      <th>Price range</th>\n",
       "      <th>Aggregate rating</th>\n",
       "      <th>Rating color</th>\n",
       "      <th>Rating text</th>\n",
       "      <th>Votes</th>\n",
       "    </tr>\n",
       "  </thead>\n",
       "  <tbody>\n",
       "    <tr>\n",
       "      <th>0</th>\n",
       "      <td>6317637</td>\n",
       "      <td>Le Petit Souffle</td>\n",
       "      <td>162</td>\n",
       "      <td>Makati City</td>\n",
       "      <td>Third Floor, Century City Mall, Kalayaan Avenu...</td>\n",
       "      <td>Century City Mall, Poblacion, Makati City</td>\n",
       "      <td>Century City Mall, Poblacion, Makati City, Mak...</td>\n",
       "      <td>121.027535</td>\n",
       "      <td>14.565443</td>\n",
       "      <td>French, Japanese, Desserts</td>\n",
       "      <td>...</td>\n",
       "      <td>Botswana Pula(P)</td>\n",
       "      <td>Yes</td>\n",
       "      <td>No</td>\n",
       "      <td>No</td>\n",
       "      <td>No</td>\n",
       "      <td>3</td>\n",
       "      <td>4.8</td>\n",
       "      <td>Dark Green</td>\n",
       "      <td>Excellent</td>\n",
       "      <td>314</td>\n",
       "    </tr>\n",
       "    <tr>\n",
       "      <th>1</th>\n",
       "      <td>6304287</td>\n",
       "      <td>Izakaya Kikufuji</td>\n",
       "      <td>162</td>\n",
       "      <td>Makati City</td>\n",
       "      <td>Little Tokyo, 2277 Chino Roces Avenue, Legaspi...</td>\n",
       "      <td>Little Tokyo, Legaspi Village, Makati City</td>\n",
       "      <td>Little Tokyo, Legaspi Village, Makati City, Ma...</td>\n",
       "      <td>121.014101</td>\n",
       "      <td>14.553708</td>\n",
       "      <td>Japanese</td>\n",
       "      <td>...</td>\n",
       "      <td>Botswana Pula(P)</td>\n",
       "      <td>Yes</td>\n",
       "      <td>No</td>\n",
       "      <td>No</td>\n",
       "      <td>No</td>\n",
       "      <td>3</td>\n",
       "      <td>4.5</td>\n",
       "      <td>Dark Green</td>\n",
       "      <td>Excellent</td>\n",
       "      <td>591</td>\n",
       "    </tr>\n",
       "    <tr>\n",
       "      <th>2</th>\n",
       "      <td>6300002</td>\n",
       "      <td>Heat - Edsa Shangri-La</td>\n",
       "      <td>162</td>\n",
       "      <td>Mandaluyong City</td>\n",
       "      <td>Edsa Shangri-La, 1 Garden Way, Ortigas, Mandal...</td>\n",
       "      <td>Edsa Shangri-La, Ortigas, Mandaluyong City</td>\n",
       "      <td>Edsa Shangri-La, Ortigas, Mandaluyong City, Ma...</td>\n",
       "      <td>121.056831</td>\n",
       "      <td>14.581404</td>\n",
       "      <td>Seafood, Asian, Filipino, Indian</td>\n",
       "      <td>...</td>\n",
       "      <td>Botswana Pula(P)</td>\n",
       "      <td>Yes</td>\n",
       "      <td>No</td>\n",
       "      <td>No</td>\n",
       "      <td>No</td>\n",
       "      <td>4</td>\n",
       "      <td>4.4</td>\n",
       "      <td>Green</td>\n",
       "      <td>Very Good</td>\n",
       "      <td>270</td>\n",
       "    </tr>\n",
       "    <tr>\n",
       "      <th>3</th>\n",
       "      <td>6318506</td>\n",
       "      <td>Ooma</td>\n",
       "      <td>162</td>\n",
       "      <td>Mandaluyong City</td>\n",
       "      <td>Third Floor, Mega Fashion Hall, SM Megamall, O...</td>\n",
       "      <td>SM Megamall, Ortigas, Mandaluyong City</td>\n",
       "      <td>SM Megamall, Ortigas, Mandaluyong City, Mandal...</td>\n",
       "      <td>121.056475</td>\n",
       "      <td>14.585318</td>\n",
       "      <td>Japanese, Sushi</td>\n",
       "      <td>...</td>\n",
       "      <td>Botswana Pula(P)</td>\n",
       "      <td>No</td>\n",
       "      <td>No</td>\n",
       "      <td>No</td>\n",
       "      <td>No</td>\n",
       "      <td>4</td>\n",
       "      <td>4.9</td>\n",
       "      <td>Dark Green</td>\n",
       "      <td>Excellent</td>\n",
       "      <td>365</td>\n",
       "    </tr>\n",
       "    <tr>\n",
       "      <th>4</th>\n",
       "      <td>6314302</td>\n",
       "      <td>Sambo Kojin</td>\n",
       "      <td>162</td>\n",
       "      <td>Mandaluyong City</td>\n",
       "      <td>Third Floor, Mega Atrium, SM Megamall, Ortigas...</td>\n",
       "      <td>SM Megamall, Ortigas, Mandaluyong City</td>\n",
       "      <td>SM Megamall, Ortigas, Mandaluyong City, Mandal...</td>\n",
       "      <td>121.057508</td>\n",
       "      <td>14.584450</td>\n",
       "      <td>Japanese, Korean</td>\n",
       "      <td>...</td>\n",
       "      <td>Botswana Pula(P)</td>\n",
       "      <td>Yes</td>\n",
       "      <td>No</td>\n",
       "      <td>No</td>\n",
       "      <td>No</td>\n",
       "      <td>4</td>\n",
       "      <td>4.8</td>\n",
       "      <td>Dark Green</td>\n",
       "      <td>Excellent</td>\n",
       "      <td>229</td>\n",
       "    </tr>\n",
       "  </tbody>\n",
       "</table>\n",
       "<p>5 rows × 21 columns</p>\n",
       "</div>"
      ],
      "text/plain": [
       "   Restaurant ID         Restaurant Name  Country Code              City  \\\n",
       "0        6317637        Le Petit Souffle           162       Makati City   \n",
       "1        6304287        Izakaya Kikufuji           162       Makati City   \n",
       "2        6300002  Heat - Edsa Shangri-La           162  Mandaluyong City   \n",
       "3        6318506                    Ooma           162  Mandaluyong City   \n",
       "4        6314302             Sambo Kojin           162  Mandaluyong City   \n",
       "\n",
       "                                             Address  \\\n",
       "0  Third Floor, Century City Mall, Kalayaan Avenu...   \n",
       "1  Little Tokyo, 2277 Chino Roces Avenue, Legaspi...   \n",
       "2  Edsa Shangri-La, 1 Garden Way, Ortigas, Mandal...   \n",
       "3  Third Floor, Mega Fashion Hall, SM Megamall, O...   \n",
       "4  Third Floor, Mega Atrium, SM Megamall, Ortigas...   \n",
       "\n",
       "                                     Locality  \\\n",
       "0   Century City Mall, Poblacion, Makati City   \n",
       "1  Little Tokyo, Legaspi Village, Makati City   \n",
       "2  Edsa Shangri-La, Ortigas, Mandaluyong City   \n",
       "3      SM Megamall, Ortigas, Mandaluyong City   \n",
       "4      SM Megamall, Ortigas, Mandaluyong City   \n",
       "\n",
       "                                    Locality Verbose   Longitude   Latitude  \\\n",
       "0  Century City Mall, Poblacion, Makati City, Mak...  121.027535  14.565443   \n",
       "1  Little Tokyo, Legaspi Village, Makati City, Ma...  121.014101  14.553708   \n",
       "2  Edsa Shangri-La, Ortigas, Mandaluyong City, Ma...  121.056831  14.581404   \n",
       "3  SM Megamall, Ortigas, Mandaluyong City, Mandal...  121.056475  14.585318   \n",
       "4  SM Megamall, Ortigas, Mandaluyong City, Mandal...  121.057508  14.584450   \n",
       "\n",
       "                           Cuisines  ...          Currency Has Table booking  \\\n",
       "0        French, Japanese, Desserts  ...  Botswana Pula(P)               Yes   \n",
       "1                          Japanese  ...  Botswana Pula(P)               Yes   \n",
       "2  Seafood, Asian, Filipino, Indian  ...  Botswana Pula(P)               Yes   \n",
       "3                   Japanese, Sushi  ...  Botswana Pula(P)                No   \n",
       "4                  Japanese, Korean  ...  Botswana Pula(P)               Yes   \n",
       "\n",
       "  Has Online delivery Is delivering now Switch to order menu Price range  \\\n",
       "0                  No                No                   No           3   \n",
       "1                  No                No                   No           3   \n",
       "2                  No                No                   No           4   \n",
       "3                  No                No                   No           4   \n",
       "4                  No                No                   No           4   \n",
       "\n",
       "   Aggregate rating  Rating color Rating text Votes  \n",
       "0               4.8    Dark Green   Excellent   314  \n",
       "1               4.5    Dark Green   Excellent   591  \n",
       "2               4.4         Green   Very Good   270  \n",
       "3               4.9    Dark Green   Excellent   365  \n",
       "4               4.8    Dark Green   Excellent   229  \n",
       "\n",
       "[5 rows x 21 columns]"
      ]
     },
     "execution_count": 5,
     "metadata": {},
     "output_type": "execute_result"
    }
   ],
   "source": [
    "df.head()"
   ]
  },
  {
   "cell_type": "markdown",
   "id": "fbaabb03-e35e-4de4-9003-a9d6d71b269d",
   "metadata": {},
   "source": [
    "# Check the shape of the dataset"
   ]
  },
  {
   "cell_type": "code",
   "execution_count": 6,
   "id": "46e93d4d-ac2d-4b68-8861-4d171b2e5c84",
   "metadata": {},
   "outputs": [
    {
     "name": "stdout",
     "output_type": "stream",
     "text": [
      "Dataset Shape: (9551, 21)\n"
     ]
    }
   ],
   "source": [
    "print(f\"Dataset Shape: {df.shape}\")"
   ]
  },
  {
   "cell_type": "markdown",
   "id": "b1767926-2504-48ae-aabc-be03852e6434",
   "metadata": {},
   "source": [
    "#### The dataset consists of **9,551 rows and 21 columns**, providing detailed information for analysis."
   ]
  },
  {
   "cell_type": "markdown",
   "id": "1e707ecc-3e29-4234-8f04-a4909c052137",
   "metadata": {},
   "source": [
    "# Check column names and data types"
   ]
  },
  {
   "cell_type": "code",
   "execution_count": 7,
   "id": "5a50eaba-e670-4e85-8b1c-3cb3aa8cf7c7",
   "metadata": {},
   "outputs": [
    {
     "name": "stdout",
     "output_type": "stream",
     "text": [
      "<class 'pandas.core.frame.DataFrame'>\n",
      "RangeIndex: 9551 entries, 0 to 9550\n",
      "Data columns (total 21 columns):\n",
      " #   Column                Non-Null Count  Dtype  \n",
      "---  ------                --------------  -----  \n",
      " 0   Restaurant ID         9551 non-null   int64  \n",
      " 1   Restaurant Name       9551 non-null   object \n",
      " 2   Country Code          9551 non-null   int64  \n",
      " 3   City                  9551 non-null   object \n",
      " 4   Address               9551 non-null   object \n",
      " 5   Locality              9551 non-null   object \n",
      " 6   Locality Verbose      9551 non-null   object \n",
      " 7   Longitude             9551 non-null   float64\n",
      " 8   Latitude              9551 non-null   float64\n",
      " 9   Cuisines              9542 non-null   object \n",
      " 10  Average Cost for two  9551 non-null   int64  \n",
      " 11  Currency              9551 non-null   object \n",
      " 12  Has Table booking     9551 non-null   object \n",
      " 13  Has Online delivery   9551 non-null   object \n",
      " 14  Is delivering now     9551 non-null   object \n",
      " 15  Switch to order menu  9551 non-null   object \n",
      " 16  Price range           9551 non-null   int64  \n",
      " 17  Aggregate rating      9551 non-null   float64\n",
      " 18  Rating color          9551 non-null   object \n",
      " 19  Rating text           9551 non-null   object \n",
      " 20  Votes                 9551 non-null   int64  \n",
      "dtypes: float64(3), int64(5), object(13)\n",
      "memory usage: 1.5+ MB\n"
     ]
    }
   ],
   "source": [
    "df.info()"
   ]
  },
  {
   "cell_type": "markdown",
   "id": "a5004ea3-aeed-4c02-ab66-949e9b849367",
   "metadata": {},
   "source": [
    "#### The dataset contains **one column with null values**, which is **'Cuisines'**. It includes different data types: **float64 (3 columns), int64 (5 columns), and object (13 columns)**."
   ]
  },
  {
   "cell_type": "markdown",
   "id": "884e73a3-e167-4c7e-bad8-4b53dd41ce54",
   "metadata": {},
   "source": [
    "# Check for missing values"
   ]
  },
  {
   "cell_type": "code",
   "execution_count": 8,
   "id": "c81be227-ac3d-4128-9268-d2de5272407f",
   "metadata": {},
   "outputs": [
    {
     "data": {
      "text/plain": [
       "Restaurant ID           0\n",
       "Restaurant Name         0\n",
       "Country Code            0\n",
       "City                    0\n",
       "Address                 0\n",
       "Locality                0\n",
       "Locality Verbose        0\n",
       "Longitude               0\n",
       "Latitude                0\n",
       "Cuisines                9\n",
       "Average Cost for two    0\n",
       "Currency                0\n",
       "Has Table booking       0\n",
       "Has Online delivery     0\n",
       "Is delivering now       0\n",
       "Switch to order menu    0\n",
       "Price range             0\n",
       "Aggregate rating        0\n",
       "Rating color            0\n",
       "Rating text             0\n",
       "Votes                   0\n",
       "dtype: int64"
      ]
     },
     "execution_count": 8,
     "metadata": {},
     "output_type": "execute_result"
    }
   ],
   "source": [
    "df.isnull().sum()"
   ]
  },
  {
   "cell_type": "markdown",
   "id": "1b888bed-db8b-44df-a566-e4dcd7d49ab1",
   "metadata": {},
   "source": [
    "#### The ‘Cuisines’ column contains 9 missing values out of 9,551 rows. This indicates a 0.094% missing rate, which is minimal and unlikely to impact the overall analysis significantly."
   ]
  },
  {
   "cell_type": "markdown",
   "id": "41f71379-c654-403d-bf46-b93ba392ffc8",
   "metadata": {},
   "source": [
    "# Check duplicates"
   ]
  },
  {
   "cell_type": "code",
   "execution_count": 9,
   "id": "56d73713-d64d-46d5-879f-b5befb108963",
   "metadata": {},
   "outputs": [
    {
     "data": {
      "text/plain": [
       "0"
      ]
     },
     "execution_count": 9,
     "metadata": {},
     "output_type": "execute_result"
    }
   ],
   "source": [
    "df.duplicated().sum()"
   ]
  },
  {
   "cell_type": "markdown",
   "id": "6e96620c-eb58-4596-bccc-dfeafe22fd0c",
   "metadata": {},
   "source": [
    "#### The dataset does not contain any duplicate values, ensuring that all records are unique and reliable for analysis.This guarantees data integrity, preventing biases or inaccuracies in the insights derived from the analysis."
   ]
  },
  {
   "cell_type": "markdown",
   "id": "19ae2d61-7b87-4cc8-bb92-ecff9d2a99d0",
   "metadata": {},
   "source": [
    "# Summary statistics for numerical columns"
   ]
  },
  {
   "cell_type": "code",
   "execution_count": 10,
   "id": "4f731383-c004-4a43-9bef-707cb2d65461",
   "metadata": {},
   "outputs": [
    {
     "data": {
      "text/html": [
       "<div>\n",
       "<style scoped>\n",
       "    .dataframe tbody tr th:only-of-type {\n",
       "        vertical-align: middle;\n",
       "    }\n",
       "\n",
       "    .dataframe tbody tr th {\n",
       "        vertical-align: top;\n",
       "    }\n",
       "\n",
       "    .dataframe thead th {\n",
       "        text-align: right;\n",
       "    }\n",
       "</style>\n",
       "<table border=\"1\" class=\"dataframe\">\n",
       "  <thead>\n",
       "    <tr style=\"text-align: right;\">\n",
       "      <th></th>\n",
       "      <th>Restaurant ID</th>\n",
       "      <th>Country Code</th>\n",
       "      <th>Longitude</th>\n",
       "      <th>Latitude</th>\n",
       "      <th>Average Cost for two</th>\n",
       "      <th>Price range</th>\n",
       "      <th>Aggregate rating</th>\n",
       "      <th>Votes</th>\n",
       "    </tr>\n",
       "  </thead>\n",
       "  <tbody>\n",
       "    <tr>\n",
       "      <th>count</th>\n",
       "      <td>9.551000e+03</td>\n",
       "      <td>9551.000000</td>\n",
       "      <td>9551.000000</td>\n",
       "      <td>9551.000000</td>\n",
       "      <td>9551.000000</td>\n",
       "      <td>9551.000000</td>\n",
       "      <td>9551.000000</td>\n",
       "      <td>9551.000000</td>\n",
       "    </tr>\n",
       "    <tr>\n",
       "      <th>mean</th>\n",
       "      <td>9.051128e+06</td>\n",
       "      <td>18.365616</td>\n",
       "      <td>64.126574</td>\n",
       "      <td>25.854381</td>\n",
       "      <td>1199.210763</td>\n",
       "      <td>1.804837</td>\n",
       "      <td>2.666370</td>\n",
       "      <td>156.909748</td>\n",
       "    </tr>\n",
       "    <tr>\n",
       "      <th>std</th>\n",
       "      <td>8.791521e+06</td>\n",
       "      <td>56.750546</td>\n",
       "      <td>41.467058</td>\n",
       "      <td>11.007935</td>\n",
       "      <td>16121.183073</td>\n",
       "      <td>0.905609</td>\n",
       "      <td>1.516378</td>\n",
       "      <td>430.169145</td>\n",
       "    </tr>\n",
       "    <tr>\n",
       "      <th>min</th>\n",
       "      <td>5.300000e+01</td>\n",
       "      <td>1.000000</td>\n",
       "      <td>-157.948486</td>\n",
       "      <td>-41.330428</td>\n",
       "      <td>0.000000</td>\n",
       "      <td>1.000000</td>\n",
       "      <td>0.000000</td>\n",
       "      <td>0.000000</td>\n",
       "    </tr>\n",
       "    <tr>\n",
       "      <th>25%</th>\n",
       "      <td>3.019625e+05</td>\n",
       "      <td>1.000000</td>\n",
       "      <td>77.081343</td>\n",
       "      <td>28.478713</td>\n",
       "      <td>250.000000</td>\n",
       "      <td>1.000000</td>\n",
       "      <td>2.500000</td>\n",
       "      <td>5.000000</td>\n",
       "    </tr>\n",
       "    <tr>\n",
       "      <th>50%</th>\n",
       "      <td>6.004089e+06</td>\n",
       "      <td>1.000000</td>\n",
       "      <td>77.191964</td>\n",
       "      <td>28.570469</td>\n",
       "      <td>400.000000</td>\n",
       "      <td>2.000000</td>\n",
       "      <td>3.200000</td>\n",
       "      <td>31.000000</td>\n",
       "    </tr>\n",
       "    <tr>\n",
       "      <th>75%</th>\n",
       "      <td>1.835229e+07</td>\n",
       "      <td>1.000000</td>\n",
       "      <td>77.282006</td>\n",
       "      <td>28.642758</td>\n",
       "      <td>700.000000</td>\n",
       "      <td>2.000000</td>\n",
       "      <td>3.700000</td>\n",
       "      <td>131.000000</td>\n",
       "    </tr>\n",
       "    <tr>\n",
       "      <th>max</th>\n",
       "      <td>1.850065e+07</td>\n",
       "      <td>216.000000</td>\n",
       "      <td>174.832089</td>\n",
       "      <td>55.976980</td>\n",
       "      <td>800000.000000</td>\n",
       "      <td>4.000000</td>\n",
       "      <td>4.900000</td>\n",
       "      <td>10934.000000</td>\n",
       "    </tr>\n",
       "  </tbody>\n",
       "</table>\n",
       "</div>"
      ],
      "text/plain": [
       "       Restaurant ID  Country Code    Longitude     Latitude  \\\n",
       "count   9.551000e+03   9551.000000  9551.000000  9551.000000   \n",
       "mean    9.051128e+06     18.365616    64.126574    25.854381   \n",
       "std     8.791521e+06     56.750546    41.467058    11.007935   \n",
       "min     5.300000e+01      1.000000  -157.948486   -41.330428   \n",
       "25%     3.019625e+05      1.000000    77.081343    28.478713   \n",
       "50%     6.004089e+06      1.000000    77.191964    28.570469   \n",
       "75%     1.835229e+07      1.000000    77.282006    28.642758   \n",
       "max     1.850065e+07    216.000000   174.832089    55.976980   \n",
       "\n",
       "       Average Cost for two  Price range  Aggregate rating         Votes  \n",
       "count           9551.000000  9551.000000       9551.000000   9551.000000  \n",
       "mean            1199.210763     1.804837          2.666370    156.909748  \n",
       "std            16121.183073     0.905609          1.516378    430.169145  \n",
       "min                0.000000     1.000000          0.000000      0.000000  \n",
       "25%              250.000000     1.000000          2.500000      5.000000  \n",
       "50%              400.000000     2.000000          3.200000     31.000000  \n",
       "75%              700.000000     2.000000          3.700000    131.000000  \n",
       "max           800000.000000     4.000000          4.900000  10934.000000  "
      ]
     },
     "execution_count": 10,
     "metadata": {},
     "output_type": "execute_result"
    }
   ],
   "source": [
    "df.describe()"
   ]
  },
  {
   "cell_type": "markdown",
   "id": "62fc7b19-9db4-4541-aed1-dce00d2fde1e",
   "metadata": {},
   "source": [
    "- **Mean Values:** The average cost for two is **1,199.21**, while the average aggregate rating is **2.67**.   \n",
    "- **Minimum (min):** Some restaurants have an **average cost of 0**, suggesting either missing values or promotional listings.  \n",
    "- **Quartiles (25%, 50%, 75%):**  \n",
    "  - **25% of restaurants** have an average cost of **250 or lower**,  \n",
    "  - **50% of restaurants** have an average cost of **400 or lower**,  \n",
    "  - **75% of restaurants** have an average cost of **700 or lower**.  \n",
    "- **Maximum (max):**  \n",
    "  - The highest **average cost for two** reaches **800,000**, possibly indicating luxury or premium restaurants.  \n",
    "  - The **highest votes received** by a restaurant are **10,934**, reflecting significant customer engagement.  \n",
    "  - The **maximum aggregate rating is 4.9**, showing the highest-rated restaurants.  \n"
   ]
  },
  {
   "cell_type": "markdown",
   "id": "f7c4cc04-1e05-4bd1-bd74-f10e59d3ce16",
   "metadata": {},
   "source": [
    "# Data Cleaning"
   ]
  },
  {
   "cell_type": "markdown",
   "id": "dbf89b17-2b61-4d6e-a9c9-437d4f7411c3",
   "metadata": {},
   "source": [
    "### Drop rows with missing values"
   ]
  },
  {
   "cell_type": "code",
   "execution_count": 11,
   "id": "21a51182-da4b-4835-b3ca-ece551319518",
   "metadata": {},
   "outputs": [],
   "source": [
    "df.dropna(inplace=True)"
   ]
  },
  {
   "cell_type": "markdown",
   "id": "4195c944-dcfe-499e-8c6f-17dcaccd373d",
   "metadata": {},
   "source": [
    "### Drop unnecessary Columns"
   ]
  },
  {
   "cell_type": "code",
   "execution_count": 12,
   "id": "f59ff922-8d3e-4a9c-b31a-1867dba8f3ab",
   "metadata": {},
   "outputs": [],
   "source": [
    "df=df.drop(columns=[\"Country Code\", \"Address\", \"Locality\", \"Locality Verbose\", \n",
    "                      \"Switch to order menu\", \"Currency\", \"Rating color\",\"Is delivering now\"], errors='ignore')\n"
   ]
  },
  {
   "cell_type": "code",
   "execution_count": 13,
   "id": "9c3762e7-91f2-4cbc-8dc9-7e558d72b56e",
   "metadata": {},
   "outputs": [
    {
     "data": {
      "text/plain": [
       "(9542, 13)"
      ]
     },
     "execution_count": 13,
     "metadata": {},
     "output_type": "execute_result"
    }
   ],
   "source": [
    "df.shape"
   ]
  },
  {
   "cell_type": "code",
   "execution_count": 14,
   "id": "d9add8be-1d63-49b7-b1b9-2448c89e52cc",
   "metadata": {},
   "outputs": [
    {
     "data": {
      "text/html": [
       "<div>\n",
       "<style scoped>\n",
       "    .dataframe tbody tr th:only-of-type {\n",
       "        vertical-align: middle;\n",
       "    }\n",
       "\n",
       "    .dataframe tbody tr th {\n",
       "        vertical-align: top;\n",
       "    }\n",
       "\n",
       "    .dataframe thead th {\n",
       "        text-align: right;\n",
       "    }\n",
       "</style>\n",
       "<table border=\"1\" class=\"dataframe\">\n",
       "  <thead>\n",
       "    <tr style=\"text-align: right;\">\n",
       "      <th></th>\n",
       "      <th>Restaurant ID</th>\n",
       "      <th>Restaurant Name</th>\n",
       "      <th>City</th>\n",
       "      <th>Longitude</th>\n",
       "      <th>Latitude</th>\n",
       "      <th>Cuisines</th>\n",
       "      <th>Average Cost for two</th>\n",
       "      <th>Has Table booking</th>\n",
       "      <th>Has Online delivery</th>\n",
       "      <th>Price range</th>\n",
       "      <th>Aggregate rating</th>\n",
       "      <th>Rating text</th>\n",
       "      <th>Votes</th>\n",
       "    </tr>\n",
       "  </thead>\n",
       "  <tbody>\n",
       "    <tr>\n",
       "      <th>0</th>\n",
       "      <td>6317637</td>\n",
       "      <td>Le Petit Souffle</td>\n",
       "      <td>Makati City</td>\n",
       "      <td>121.027535</td>\n",
       "      <td>14.565443</td>\n",
       "      <td>French, Japanese, Desserts</td>\n",
       "      <td>1100</td>\n",
       "      <td>Yes</td>\n",
       "      <td>No</td>\n",
       "      <td>3</td>\n",
       "      <td>4.8</td>\n",
       "      <td>Excellent</td>\n",
       "      <td>314</td>\n",
       "    </tr>\n",
       "    <tr>\n",
       "      <th>1</th>\n",
       "      <td>6304287</td>\n",
       "      <td>Izakaya Kikufuji</td>\n",
       "      <td>Makati City</td>\n",
       "      <td>121.014101</td>\n",
       "      <td>14.553708</td>\n",
       "      <td>Japanese</td>\n",
       "      <td>1200</td>\n",
       "      <td>Yes</td>\n",
       "      <td>No</td>\n",
       "      <td>3</td>\n",
       "      <td>4.5</td>\n",
       "      <td>Excellent</td>\n",
       "      <td>591</td>\n",
       "    </tr>\n",
       "    <tr>\n",
       "      <th>2</th>\n",
       "      <td>6300002</td>\n",
       "      <td>Heat - Edsa Shangri-La</td>\n",
       "      <td>Mandaluyong City</td>\n",
       "      <td>121.056831</td>\n",
       "      <td>14.581404</td>\n",
       "      <td>Seafood, Asian, Filipino, Indian</td>\n",
       "      <td>4000</td>\n",
       "      <td>Yes</td>\n",
       "      <td>No</td>\n",
       "      <td>4</td>\n",
       "      <td>4.4</td>\n",
       "      <td>Very Good</td>\n",
       "      <td>270</td>\n",
       "    </tr>\n",
       "    <tr>\n",
       "      <th>3</th>\n",
       "      <td>6318506</td>\n",
       "      <td>Ooma</td>\n",
       "      <td>Mandaluyong City</td>\n",
       "      <td>121.056475</td>\n",
       "      <td>14.585318</td>\n",
       "      <td>Japanese, Sushi</td>\n",
       "      <td>1500</td>\n",
       "      <td>No</td>\n",
       "      <td>No</td>\n",
       "      <td>4</td>\n",
       "      <td>4.9</td>\n",
       "      <td>Excellent</td>\n",
       "      <td>365</td>\n",
       "    </tr>\n",
       "    <tr>\n",
       "      <th>4</th>\n",
       "      <td>6314302</td>\n",
       "      <td>Sambo Kojin</td>\n",
       "      <td>Mandaluyong City</td>\n",
       "      <td>121.057508</td>\n",
       "      <td>14.584450</td>\n",
       "      <td>Japanese, Korean</td>\n",
       "      <td>1500</td>\n",
       "      <td>Yes</td>\n",
       "      <td>No</td>\n",
       "      <td>4</td>\n",
       "      <td>4.8</td>\n",
       "      <td>Excellent</td>\n",
       "      <td>229</td>\n",
       "    </tr>\n",
       "  </tbody>\n",
       "</table>\n",
       "</div>"
      ],
      "text/plain": [
       "   Restaurant ID         Restaurant Name              City   Longitude  \\\n",
       "0        6317637        Le Petit Souffle       Makati City  121.027535   \n",
       "1        6304287        Izakaya Kikufuji       Makati City  121.014101   \n",
       "2        6300002  Heat - Edsa Shangri-La  Mandaluyong City  121.056831   \n",
       "3        6318506                    Ooma  Mandaluyong City  121.056475   \n",
       "4        6314302             Sambo Kojin  Mandaluyong City  121.057508   \n",
       "\n",
       "    Latitude                          Cuisines  Average Cost for two  \\\n",
       "0  14.565443        French, Japanese, Desserts                  1100   \n",
       "1  14.553708                          Japanese                  1200   \n",
       "2  14.581404  Seafood, Asian, Filipino, Indian                  4000   \n",
       "3  14.585318                   Japanese, Sushi                  1500   \n",
       "4  14.584450                  Japanese, Korean                  1500   \n",
       "\n",
       "  Has Table booking Has Online delivery  Price range  Aggregate rating  \\\n",
       "0               Yes                  No            3               4.8   \n",
       "1               Yes                  No            3               4.5   \n",
       "2               Yes                  No            4               4.4   \n",
       "3                No                  No            4               4.9   \n",
       "4               Yes                  No            4               4.8   \n",
       "\n",
       "  Rating text  Votes  \n",
       "0   Excellent    314  \n",
       "1   Excellent    591  \n",
       "2   Very Good    270  \n",
       "3   Excellent    365  \n",
       "4   Excellent    229  "
      ]
     },
     "execution_count": 14,
     "metadata": {},
     "output_type": "execute_result"
    }
   ],
   "source": [
    "df.head()"
   ]
  },
  {
   "cell_type": "markdown",
   "id": "bd006954-d2e1-48d9-ae23-554a9e76ad48",
   "metadata": {},
   "source": [
    "#### After data preprocessing, the dataset now contains 9,542 rows and 13 columns.This ensures a refined and structured dataset, removing irrelevant or missing data while retaining valuable insights.\n"
   ]
  },
  {
   "cell_type": "markdown",
   "id": "dd461d5c-55ab-451b-ba13-6d6a95dc5d41",
   "metadata": {},
   "source": [
    "## Exploratory Data Analysis (EDA)"
   ]
  },
  {
   "cell_type": "markdown",
   "id": "c606ed85-d14a-4dde-be64-d235db2a7731",
   "metadata": {},
   "source": [
    "### Identify the top three most common cuisines."
   ]
  },
  {
   "cell_type": "code",
   "execution_count": 15,
   "id": "19a2bca3-3843-4e27-8e46-35e208c0af80",
   "metadata": {},
   "outputs": [],
   "source": [
    "# Step 1: Split and flatten the cuisines column\n",
    "cuisine_list = []\n",
    "for cuisine_entry in df[\"Cuisines\"]:\n",
    "    split_cuisines = cuisine_entry.split(', ')  #  Split comma-separated values\n",
    "    cuisine_list.extend(split_cuisines)  # Add all cuisines to list\n",
    "\n",
    "# Step 2: Convert list to Pandas Series\n",
    "cuisine_series = pd.Series(cuisine_list)"
   ]
  },
  {
   "cell_type": "code",
   "execution_count": 16,
   "id": "1fc4508d-1eca-4e58-8ced-79ab14233a6b",
   "metadata": {},
   "outputs": [
    {
     "name": "stdout",
     "output_type": "stream",
     "text": [
      "Unique Cuisines: ['French' 'Japanese' 'Desserts' 'Seafood' 'Asian' 'Filipino' 'Indian'\n",
      " 'Sushi' 'Korean' 'Chinese' 'European' 'Mexican' 'American' 'Ice Cream'\n",
      " 'Cafe' 'Italian' 'Pizza' 'Bakery' 'Mediterranean' 'Fast Food' 'Brazilian'\n",
      " 'Arabian' 'Bar Food' 'Grill' 'International' 'Peruvian' 'Latin American'\n",
      " 'Burger' 'Juices' 'Healthy Food' 'Beverages' 'Lebanese' 'Sandwich'\n",
      " 'Steak' 'BBQ' 'Gourmet Fast Food' 'Mineira' 'North Eastern'\n",
      " 'Coffee and Tea' 'Vegetarian' 'Tapas' 'Breakfast' 'Diner' 'Southern'\n",
      " 'Southwestern' 'Spanish' 'Argentine' 'Caribbean' 'German' 'Vietnamese'\n",
      " 'Thai' 'Modern Australian' 'Teriyaki' 'Cajun' 'Canadian' 'Tex-Mex'\n",
      " 'Middle Eastern' 'Greek' 'Bubble Tea' 'Tea' 'Australian' 'Fusion' 'Cuban'\n",
      " 'Hawaiian' 'Salad' 'Irish' 'New American' 'Soul Food' 'Turkish'\n",
      " 'Pub Food' 'Persian' 'Continental' 'Singaporean' 'Malay' 'Cantonese'\n",
      " 'Dim Sum' 'Western' 'Finger Food' 'British' 'Deli' 'Indonesian'\n",
      " 'North Indian' 'Mughlai' 'Biryani' 'South Indian' 'Pakistani' 'Afghani'\n",
      " 'Hyderabadi' 'Rajasthani' 'Street Food' 'Goan' 'African' 'Portuguese'\n",
      " 'Gujarati' 'Armenian' 'Mithai' 'Maharashtrian' 'Modern Indian'\n",
      " 'Charcoal Grill' 'Malaysian' 'Burmese' 'Chettinad' 'Parsi' 'Tibetan'\n",
      " 'Raw Meats' 'Kerala' 'Belgian' 'Kashmiri' 'South American' 'Bengali'\n",
      " 'Iranian' 'Lucknowi' 'Awadhi' 'Nepalese' 'Drinks Only' 'Oriya' 'Bihari'\n",
      " 'Assamese' 'Andhra' 'Mangalorean' 'Malwani' 'Cuisine Varies' 'Moroccan'\n",
      " 'Naga' 'Sri Lankan' 'Peranakan' 'Sunda' 'Ramen' 'Kiwi' 'Asian Fusion'\n",
      " 'Taiwanese' 'Fish and Chips' 'Contemporary' 'Scottish' 'Curry'\n",
      " 'Patisserie' 'South African' 'Durban' 'Kebab' 'Turkish Pizza' 'Izgara'\n",
      " 'World Cuisine' 'D�_ner' 'Restaurant Cafe' 'B�_rek']\n"
     ]
    }
   ],
   "source": [
    "# Step 3: Analysis\n",
    "print(\"Unique Cuisines:\", cuisine_series.unique())  # Unique cuisine names"
   ]
  },
  {
   "cell_type": "code",
   "execution_count": 17,
   "id": "04d10aea-e8ea-4a99-8d62-1418ec62a583",
   "metadata": {},
   "outputs": [
    {
     "name": "stdout",
     "output_type": "stream",
     "text": [
      "Number of Unique Cuisines: 145\n"
     ]
    }
   ],
   "source": [
    "print(\"Number of Unique Cuisines:\", cuisine_series.nunique())  #  Count of unique cuisines"
   ]
  },
  {
   "cell_type": "markdown",
   "id": "d401995f-45cb-4704-903c-546b73c257e1",
   "metadata": {},
   "source": [
    "#### The dataset includes 145 unique types of cuisines, showcasing a diverse and rich food selection across restaurants.This variety reflects customer preferences, cultural influences, and market demand for different cuisines."
   ]
  },
  {
   "cell_type": "markdown",
   "id": "1d4cf693-d770-4dc5-b799-7dfa07439e3c",
   "metadata": {},
   "source": [
    "# Calculate the percentage of each cuisine."
   ]
  },
  {
   "cell_type": "code",
   "execution_count": 18,
   "id": "336a50b2-3f01-47b3-8f30-4526f9bfac74",
   "metadata": {},
   "outputs": [
    {
     "name": "stdout",
     "output_type": "stream",
     "text": [
      "Cuisine Frequency:\n",
      " North Indian    3960\n",
      "Chinese         2735\n",
      "Fast Food       1986\n",
      "Mughlai          995\n",
      "Italian          764\n",
      "Name: count, dtype: int64\n"
     ]
    }
   ],
   "source": [
    "print(\"Cuisine Frequency:\\n\", cuisine_series.value_counts().head(5))  #  Frequency count"
   ]
  },
  {
   "cell_type": "markdown",
   "id": "4a53671c-264c-498b-95cc-9dbd99a2e0f3",
   "metadata": {},
   "source": [
    "#### Popular cuisines like Cafe, North Indian, Mughlai, Chinese, and Italian tend to receive higher ratings and engagement."
   ]
  },
  {
   "cell_type": "code",
   "execution_count": 19,
   "id": "e98cd4c6-132c-4e1a-a1eb-e6ddb2356d0f",
   "metadata": {},
   "outputs": [
    {
     "data": {
      "text/plain": [
       "North Indian    20.091324\n",
       "Chinese         13.876205\n",
       "Fast Food       10.076104\n",
       "Mughlai          5.048199\n",
       "Italian          3.876205\n",
       "Name: count, dtype: float64"
      ]
     },
     "execution_count": 19,
     "metadata": {},
     "output_type": "execute_result"
    }
   ],
   "source": [
    "# Ensure cuisine_series is a pandas Series\n",
    "cuisine_series = pd.Series(cuisine_series)  \n",
    "# Get the top 5 most common cuisines\n",
    "top_cuisines = cuisine_series.value_counts().head(5)\n",
    "# Convert to percentage\n",
    "total = cuisine_series.shape[0]  # Total count of all cuisines\n",
    "percentages = (top_cuisines / total) * 100\n",
    "percentages"
   ]
  },
  {
   "cell_type": "code",
   "execution_count": 20,
   "id": "adc42d89-282f-43bf-bb72-e8f65f4c9532",
   "metadata": {},
   "outputs": [
    {
     "data": {
      "image/png": "[encoded data removed]",
      "text/plain": [
       "<Figure size 800x300 with 1 Axes>"
      ]
     },
     "metadata": {},
     "output_type": "display_data"
    }
   ],
   "source": [
    "# Plot bar chart\n",
    "plt.figure(figsize=(8,3))\n",
    "plt.bar(percentages.index, percentages.values, color=['blue', 'red', 'green', 'purple', 'orange'])\n",
    "\n",
    "# Labels and title\n",
    "plt.xlabel(\"Cuisines\")\n",
    "plt.ylabel(\"Percentage (%)\")\n",
    "plt.title(\"Percentage Distribution of Top Cuisines\")\n",
    "plt.xticks(rotation=30)\n",
    "plt.ylim(0, max(percentages) + 5)\n",
    "\n",
    "plt.show()"
   ]
  },
  {
   "cell_type": "markdown",
   "id": "d8413232-5877-45d6-8b2f-147013cc52f3",
   "metadata": {},
   "source": [
    "#### The restaurant's cuisine distribution is as follows: North Indian (20.09%), Chinese (13.88%), Fast Food (10.08%), Mughlai (5.05%), and Italian (3.88%)."
   ]
  },
  {
   "cell_type": "markdown",
   "id": "3af06d94-37db-4058-b206-92ec273d6a90",
   "metadata": {},
   "source": [
    "#### North Indian cuisine leads the market, followed by Chinese and Fast Food. Mughlai and Italian cuisines have niche popularity, attracting specific customer groups. Understanding customer demand per cuisine type can help restaurants tailor their menu offerings and marketing strategies."
   ]
  },
  {
   "cell_type": "markdown",
   "id": "492d87f7-7ce3-4dd0-a53e-62c54b49281b",
   "metadata": {},
   "source": [
    "# Identify the city with the highest number of restaurants in the dataset"
   ]
  },
  {
   "cell_type": "code",
   "execution_count": 21,
   "id": "017efdd0-027c-43ea-8e8d-6c0adfd6774f",
   "metadata": {},
   "outputs": [
    {
     "data": {
      "text/plain": [
       "City\n",
       "New Delhi    5473\n",
       "Name: count, dtype: int64"
      ]
     },
     "execution_count": 21,
     "metadata": {},
     "output_type": "execute_result"
    }
   ],
   "source": [
    "df['City'].value_counts().head(1)"
   ]
  },
  {
   "cell_type": "markdown",
   "id": "ff68f931-472e-4174-b998-028ce521d65b",
   "metadata": {},
   "source": [
    "#### New Delhi has 5,473 restaurants, making it the city with the highest number of restaurants in the dataset."
   ]
  },
  {
   "cell_type": "markdown",
   "id": "2a0b927c-f94d-4131-9e61-be282961b209",
   "metadata": {},
   "source": [
    "# Calculate the average rating for restaurants in each city."
   ]
  },
  {
   "cell_type": "code",
   "execution_count": 22,
   "id": "2a1c15b1-6a09-48dc-81fd-5ba3ec014620",
   "metadata": {},
   "outputs": [
    {
     "data": {
      "text/plain": [
       "City\n",
       "Abu Dhabi          4.300000\n",
       "Agra               3.965000\n",
       "Ahmedabad          4.161905\n",
       "Albany             3.552941\n",
       "Allahabad          3.395000\n",
       "                     ...   \n",
       "Weirton            3.900000\n",
       "Wellington City    4.250000\n",
       "Winchester Bay     3.200000\n",
       "Yorkton            3.300000\n",
       "��stanbul          4.292857\n",
       "Name: Aggregate rating, Length: 140, dtype: float64"
      ]
     },
     "execution_count": 22,
     "metadata": {},
     "output_type": "execute_result"
    }
   ],
   "source": [
    "average_ratings = df.groupby('City')['Aggregate rating'].mean()\n",
    "average_ratings"
   ]
  },
  {
   "cell_type": "code",
   "execution_count": 23,
   "id": "ec92c8ec-7ac1-4341-b7c6-3f5f7cac8dc5",
   "metadata": {},
   "outputs": [
    {
     "name": "stdout",
     "output_type": "stream",
     "text": [
      "The city with the highest rating is: Inner City\n",
      "Highest Rating: 4.90\n"
     ]
    }
   ],
   "source": [
    "highest_rated_city = average_ratings.idxmax()\n",
    "highest_rating = average_ratings.max()\n",
    "\n",
    "print(f\"The city with the highest rating is: {highest_rated_city}\")\n",
    "print(f\"Highest Rating: {highest_rating:.2f}\")\n"
   ]
  },
  {
   "cell_type": "markdown",
   "id": "61a59b93-ef40-4cb9-92f4-c4a73f1e10e9",
   "metadata": {},
   "source": [
    "#### Inner City holds the highest average rating of 4.90, reflecting exceptional restaurant quality and customer satisfaction."
   ]
  },
  {
   "cell_type": "markdown",
   "id": "838e2e68-c2aa-4b42-8429-e99ba3b9f61f",
   "metadata": {},
   "source": [
    "# Determine the city with the highest average rating.\n"
   ]
  },
  {
   "cell_type": "markdown",
   "id": "dcd84ade-1e58-4ea8-8dac-62a48bd5cfa9",
   "metadata": {},
   "source": [
    "##### The city which has highest rating : Inner City"
   ]
  },
  {
   "cell_type": "markdown",
   "id": "21d4a5bc-87b3-44d4-bca8-8ededd01ee3a",
   "metadata": {},
   "source": [
    "##### Rating : 4.9\n"
   ]
  },
  {
   "cell_type": "markdown",
   "id": "137a6d84-88ff-4493-ba62-e9cfa56316e3",
   "metadata": {},
   "source": [
    "# Create a histogram or bar chart to visualize the distribution of price ranges among the restaurants."
   ]
  },
  {
   "cell_type": "code",
   "execution_count": 24,
   "id": "fb368f0f-358c-4e5e-91ef-a03cd42392dd",
   "metadata": {},
   "outputs": [],
   "source": [
    "Frequency_count = df['Price range'].value_counts()"
   ]
  },
  {
   "cell_type": "code",
   "execution_count": 25,
   "id": "19345732-2f97-4d97-abbd-81d60c8851b2",
   "metadata": {},
   "outputs": [
    {
     "data": {
      "image/png": "[encoded data removed]",
      "text/plain": [
       "<Figure size 800x300 with 1 Axes>"
      ]
     },
     "metadata": {},
     "output_type": "display_data"
    }
   ],
   "source": [
    "plt.figure(figsize=(8,3))\n",
    "Frequency_count.plot(kind='bar',color='skyblue')\n",
    "plt.title('Distribution of Price Ranges Among Restaurants')\n",
    "plt.xlabel('Price Ranges')\n",
    "plt.ylabel('Number of Restaurants')\n",
    "plt.xticks(rotation=360)\n",
    "plt.show()"
   ]
  },
  {
   "cell_type": "markdown",
   "id": "1a9c19bf-bda6-4e17-8bd9-7581067ac713",
   "metadata": {},
   "source": [
    "#### Price Range Distribution:\n",
    "\n",
    "Low Price: 4,444 restaurants\n",
    "Medium-Low Price: 3,113 restaurants\n",
    "Medium-High Price: 1,408 restaurants\n",
    "High Price: 586 restaurants"
   ]
  },
  {
   "cell_type": "markdown",
   "id": "242f3957-d846-4d88-a21f-9841faf22e30",
   "metadata": {},
   "source": [
    "#### The low-price category has the highest number of restaurants, suggesting a strong market demand for budget-friendly dining options. This trend indicates that affordability plays a significant role in shaping the restaurant landscape in the city."
   ]
  },
  {
   "cell_type": "markdown",
   "id": "597cf7d9-53ef-46d7-b0da-6aa3debb9a3f",
   "metadata": {},
   "source": [
    "# Calculate the percentage of restaurants in each price range category"
   ]
  },
  {
   "cell_type": "code",
   "execution_count": 26,
   "id": "78ead425-ea01-45c9-a2a4-9e18371e0d1c",
   "metadata": {},
   "outputs": [],
   "source": [
    "# Total restaurants \n",
    "total_restaurants = df['Restaurant ID'].nunique()\n",
    "# For percentage\n",
    "percentage = (Frequency_count/total_restaurants)*100"
   ]
  },
  {
   "cell_type": "code",
   "execution_count": 27,
   "id": "1d3cb0d3-0d5d-4a91-b3cc-24210adde442",
   "metadata": {},
   "outputs": [
    {
     "data": {
      "image/png": "[encoded data removed]",
      "text/plain": [
       "<Figure size 800x400 with 1 Axes>"
      ]
     },
     "metadata": {},
     "output_type": "display_data"
    }
   ],
   "source": [
    "plt.figure(figsize=(8,4))\n",
    "plt.pie(percentage,labels=percentage.index,autopct=\"%1.1f%%\",startangle=60)\n",
    "plt.title('Percentage of Restaurants in Each Price Range Category')\n",
    "plt.axis('equal')  # Equal aspect ratio ensures that pie is drawn as a circle.\n",
    "plt.show()"
   ]
  },
  {
   "cell_type": "markdown",
   "id": "f2d13eea-6a69-4e30-9af5-e7ee49019f2e",
   "metadata": {},
   "source": [
    "Low Price: 46.5%  (Budget-friendly restaurants)\n",
    "Medium-Low Price: 32.6%  (Affordable dining options)\n",
    "Medium-High Price: 14.7%  (Premium casual dining)\n",
    "High Price: 6.1% (Luxury/Fine dining)"
   ]
  },
  {
   "cell_type": "markdown",
   "id": "da960d53-9ebf-4353-8857-628f1d2c855f",
   "metadata": {},
   "source": [
    "#### The majority of restaurants (46.5%) fall under the low-price category, indicating a strong market for budget-friendly dining. This suggests that affordability plays a crucial role in customer preferences, influencing restaurant business strategies.\n",
    "\n"
   ]
  },
  {
   "cell_type": "markdown",
   "id": "50bf3bbc-9d53-4343-9394-99a6a5333436",
   "metadata": {},
   "source": [
    "# Determine the percentage of restaurants that offer online delivery"
   ]
  },
  {
   "cell_type": "code",
   "execution_count": 28,
   "id": "f0fa2394-8ff0-4fd1-9f6f-101712cf4e3e",
   "metadata": {},
   "outputs": [],
   "source": [
    "# Count the restaurants that offer online delivery\n",
    "counts = df['Has Online delivery'].value_counts()\n",
    "count = counts.iloc[1]  # Using iloc for positional access\n",
    "\n",
    "# For percentage\n",
    "per = (count / total_restaurants) * 100"
   ]
  },
  {
   "cell_type": "markdown",
   "id": "347e9aaa-7795-458a-81b3-79991e9b4539",
   "metadata": {},
   "source": [
    "Restaurants Offering Online Delivery:\n",
    "\n",
    "\n",
    "Total: 2,451 restaurants\n",
    "Percentage: 25.6% of all restaurants"
   ]
  },
  {
   "cell_type": "markdown",
   "id": "98b80aa2-5ced-4408-a32f-a8273c84330d",
   "metadata": {},
   "source": [
    "#### Only one-fourth (25.6%) of the restaurants provide online delivery services, indicating that a significant portion of restaurants still rely on dine-in or takeaway options. This suggests potential opportunities for growth in the online food delivery sector."
   ]
  },
  {
   "cell_type": "markdown",
   "id": "534f1393-a8f1-48c8-91da-0acd9465e870",
   "metadata": {},
   "source": [
    "### Compare the average ratings of restaurants with and without online delivery"
   ]
  },
  {
   "cell_type": "code",
   "execution_count": 29,
   "id": "f8855142-8e54-4aea-af20-7925c94651ab",
   "metadata": {},
   "outputs": [],
   "source": [
    "# without online delivery restaurants\n",
    "without = df.loc[df['Has Online delivery'] == \"No\"]\n",
    "with_ = df.loc[df['Has Online delivery'] == \"Yes\"]\n",
    "\n",
    "# Calculate average ratings\n",
    "r, s = with_['Aggregate rating'].mean(), without['Aggregate rating'].mean()"
   ]
  },
  {
   "cell_type": "code",
   "execution_count": 30,
   "id": "97e3ebb4-a9fb-4672-ab93-35ef44188585",
   "metadata": {},
   "outputs": [
    {
     "data": {
      "image/png": "[encoded data removed]",
      "text/plain": [
       "<Figure size 800x300 with 1 Axes>"
      ]
     },
     "metadata": {},
     "output_type": "display_data"
    }
   ],
   "source": [
    "# Bar chart visualization\n",
    "plt.figure(figsize=(8,3))\n",
    "plt.bar([\"With Online Delivery\", \"Without Online Delivery\"], [r, s], color=[\"green\", \"red\"])\n",
    "plt.xlabel(\"Restaurant Type\")\n",
    "plt.ylabel(\"Average Rating\")\n",
    "plt.title(\"Online vs. Non-Online Delivery Ratings\")\n",
    "plt.ylim(0, 5)\n",
    "plt.show()"
   ]
  },
  {
   "cell_type": "markdown",
   "id": "3f4d9260-b6ad-44b1-8c1e-30223fd17f53",
   "metadata": {},
   "source": [
    "##### Average Ratings Comparison:\n",
    "\n",
    "Restaurants with Online Delivery: ⭐ 3.2\n",
    "Restaurants without Online Delivery: ⭐ 2.4"
   ]
  },
  {
   "cell_type": "markdown",
   "id": "96978738-6b5c-46d0-a13b-8ac70c858c86",
   "metadata": {},
   "source": [
    "#### Restaurants that offer online delivery have a higher average rating (3.2) compared to those that do not (2.4). This indicates that online delivery services contribute to better customer satisfaction and engagement, possibly due to convenience, accessibility, and service quality."
   ]
  },
  {
   "cell_type": "markdown",
   "id": "c6853fa8-6dd1-45a1-b511-0765dbd26387",
   "metadata": {},
   "source": [
    "# Calculate the average number of votes received by restaurants"
   ]
  },
  {
   "cell_type": "code",
   "execution_count": 31,
   "id": "1faa17d8-2144-423d-90fb-10aac38ba936",
   "metadata": {},
   "outputs": [
    {
     "name": "stdout",
     "output_type": "stream",
     "text": [
      "\n",
      "Average votes per restaurant: 156.8\n",
      "Highest number of votes received: 10934\n"
     ]
    },
    {
     "data": {
      "image/png": "[encoded data removed]",
      "text/plain": [
       "<Figure size 800x300 with 1 Axes>"
      ]
     },
     "metadata": {},
     "output_type": "display_data"
    }
   ],
   "source": [
    "# Customer engagement metrics\n",
    "avg_votes = df['Votes'].mean()\n",
    "max_votes = df['Votes'].max()\n",
    "\n",
    "print(f\"\\nAverage votes per restaurant: {avg_votes:.1f}\")\n",
    "print(f\"Highest number of votes received: {max_votes}\")\n",
    "\n",
    "# Histogram for vote distribution\n",
    "plt.figure(figsize=(8, 3))\n",
    "sns.histplot(df['Votes'], bins=30, kde=True, color=\"#2ecc71\")\n",
    "\n",
    "# Labels & title\n",
    "plt.xlabel(\"Number of Votes\")\n",
    "plt.ylabel(\"Frequency\")\n",
    "plt.title(\"Customer Votes Distribution\")\n",
    "plt.grid(True, linestyle=\"--\", alpha=0.6)\n",
    "\n",
    "# Show plot\n",
    "plt.show()"
   ]
  },
  {
   "cell_type": "markdown",
   "id": "30bbd1ad-bd49-4478-b3bb-95c5cc8334b8",
   "metadata": {},
   "source": [
    "##### Customer Engagement Analysis\n",
    "📊 Average Votes per Restaurant: 156.7 🗳️"
   ]
  },
  {
   "cell_type": "markdown",
   "id": "b74d01e6-6428-4b6c-afaf-f69275f448c3",
   "metadata": {},
   "source": [
    "#### On average, restaurants receive 156.7 customer votes, indicating a moderate level of customer engagement. Higher votes typically suggest better customer interaction, popularity, and trust in the restaurant's services."
   ]
  },
  {
   "cell_type": "markdown",
   "id": "8fafaca2-f184-483a-985c-ef778a440dc3",
   "metadata": {},
   "source": [
    "# Identify the most common combinations of cuisines in the dataset."
   ]
  },
  {
   "cell_type": "code",
   "execution_count": 32,
   "id": "7b520a8b-d5d8-42ba-b56f-dba09624b334",
   "metadata": {},
   "outputs": [
    {
     "data": {
      "text/plain": [
       "Cuisines\n",
       "North Indian             936\n",
       "North Indian, Chinese    511\n",
       "Chinese                  354\n",
       "Name: count, dtype: int64"
      ]
     },
     "execution_count": 32,
     "metadata": {},
     "output_type": "execute_result"
    }
   ],
   "source": [
    "common =df['Cuisines'].value_counts().head(3)\n",
    "common"
   ]
  },
  {
   "cell_type": "markdown",
   "id": "6dd4967b-3260-4fc8-b0c5-6cf94ef60fa0",
   "metadata": {},
   "source": [
    "#### North Indian cuisine is the most dominant, with 936 restaurants, followed by the popular combination of North Indian & Chinese (511 restaurants). This indicates a strong customer preference for traditional Indian flavors, while Chinese cuisine remains a popular secondary choice, often paired with North Indian dishes."
   ]
  },
  {
   "cell_type": "markdown",
   "id": "65b75f2a-d6cb-40cf-a4c9-7560a18c4b20",
   "metadata": {},
   "source": [
    "# Determine if certain cuisine combinations tend to have higher ratings."
   ]
  },
  {
   "cell_type": "code",
   "execution_count": 33,
   "id": "2591998a-b89b-45af-a844-542008518ebf",
   "metadata": {},
   "outputs": [
    {
     "name": "stdout",
     "output_type": "stream",
     "text": [
      "Top Cuisines with 'Very Good' Ratings:\n",
      "Cuisines\n",
      "Cafe                     28\n",
      "North Indian, Mughlai    25\n",
      "Chinese                  21\n",
      "Name: count, dtype: int64 \n",
      "\n",
      "Top Cuisines with 'Excellent' Ratings:\n",
      "Cuisines\n",
      "Cafe            8\n",
      "North Indian    7\n",
      "Italian         7\n",
      "Name: count, dtype: int64 \n",
      "\n",
      "Cuisines consistently receiving high ratings: Chinese, North Indian, Mughlai, Italian, North Indian, Cafe\n"
     ]
    }
   ],
   "source": [
    "# Filter restaurants with 'Very Good' and 'Excellent' ratings\n",
    "very_good_df = df[df['Rating text'] == 'Very Good']\n",
    "excellent_df = df[df['Rating text'] == 'Excellent']\n",
    "\n",
    "# Get top 3 cuisines for each rating category\n",
    "top_very_good = very_good_df['Cuisines'].value_counts().head(3)\n",
    "top_excellent = excellent_df['Cuisines'].value_counts().head(3)\n",
    "\n",
    "# Display results\n",
    "print(\"Top Cuisines with 'Very Good' Ratings:\")\n",
    "print(top_very_good, \"\\n\")\n",
    "\n",
    "print(\"Top Cuisines with 'Excellent' Ratings:\")\n",
    "print(top_excellent, \"\\n\")\n",
    "\n",
    "# Extract unique top cuisines across both categories\n",
    "top_cuisines = set(top_very_good.index).union(set(top_excellent.index))\n",
    "\n",
    "print(\"Cuisines consistently receiving high ratings:\", \", \".join(top_cuisines))"
   ]
  },
  {
   "cell_type": "markdown",
   "id": "d0f03bab-04c1-494e-a3b6-66deef84371d",
   "metadata": {},
   "source": [
    "#### This suggests that Cafe-style restaurants and North Indian cuisine are among the most preferred choices, with significant popularity in both high-rating categories. This insight can help restaurant businesses focus on these cuisines to attract more customers."
   ]
  },
  {
   "cell_type": "markdown",
   "id": "3aac8d03-88ff-40ed-b2f7-ad5d8065bd35",
   "metadata": {},
   "source": [
    "# Identify if there are any restaurant chains present in the dataset"
   ]
  },
  {
   "cell_type": "code",
   "execution_count": 34,
   "id": "696bb8ef-ba2f-4876-953e-d44050b53cc3",
   "metadata": {},
   "outputs": [
    {
     "data": {
      "text/html": [
       "<div>\n",
       "<style scoped>\n",
       "    .dataframe tbody tr th:only-of-type {\n",
       "        vertical-align: middle;\n",
       "    }\n",
       "\n",
       "    .dataframe tbody tr th {\n",
       "        vertical-align: top;\n",
       "    }\n",
       "\n",
       "    .dataframe thead th {\n",
       "        text-align: right;\n",
       "    }\n",
       "</style>\n",
       "<table border=\"1\" class=\"dataframe\">\n",
       "  <thead>\n",
       "    <tr style=\"text-align: right;\">\n",
       "      <th></th>\n",
       "      <th>Restaurant ID</th>\n",
       "      <th>Restaurant Name</th>\n",
       "      <th>City</th>\n",
       "      <th>Longitude</th>\n",
       "      <th>Latitude</th>\n",
       "      <th>Cuisines</th>\n",
       "      <th>Average Cost for two</th>\n",
       "      <th>Has Table booking</th>\n",
       "      <th>Has Online delivery</th>\n",
       "      <th>Price range</th>\n",
       "      <th>Aggregate rating</th>\n",
       "      <th>Rating text</th>\n",
       "      <th>Votes</th>\n",
       "    </tr>\n",
       "  </thead>\n",
       "  <tbody>\n",
       "    <tr>\n",
       "      <th>5</th>\n",
       "      <td>18189371</td>\n",
       "      <td>Din Tai Fung</td>\n",
       "      <td>Mandaluyong City</td>\n",
       "      <td>121.056314</td>\n",
       "      <td>14.583764</td>\n",
       "      <td>Chinese</td>\n",
       "      <td>1000</td>\n",
       "      <td>No</td>\n",
       "      <td>No</td>\n",
       "      <td>3</td>\n",
       "      <td>4.4</td>\n",
       "      <td>Very Good</td>\n",
       "      <td>336</td>\n",
       "    </tr>\n",
       "    <tr>\n",
       "      <th>10</th>\n",
       "      <td>6309903</td>\n",
       "      <td>Silantro Fil-Mex</td>\n",
       "      <td>Pasig City</td>\n",
       "      <td>121.057916</td>\n",
       "      <td>14.567689</td>\n",
       "      <td>Filipino, Mexican</td>\n",
       "      <td>800</td>\n",
       "      <td>No</td>\n",
       "      <td>No</td>\n",
       "      <td>3</td>\n",
       "      <td>4.9</td>\n",
       "      <td>Excellent</td>\n",
       "      <td>1070</td>\n",
       "    </tr>\n",
       "    <tr>\n",
       "      <th>12</th>\n",
       "      <td>6318433</td>\n",
       "      <td>Silantro Fil-Mex</td>\n",
       "      <td>Quezon City</td>\n",
       "      <td>121.075419</td>\n",
       "      <td>14.649503</td>\n",
       "      <td>Filipino, Mexican</td>\n",
       "      <td>800</td>\n",
       "      <td>No</td>\n",
       "      <td>No</td>\n",
       "      <td>3</td>\n",
       "      <td>4.8</td>\n",
       "      <td>Excellent</td>\n",
       "      <td>294</td>\n",
       "    </tr>\n",
       "    <tr>\n",
       "      <th>35</th>\n",
       "      <td>6601589</td>\n",
       "      <td>Coco Bambu</td>\n",
       "      <td>Bras�_lia</td>\n",
       "      <td>-47.889000</td>\n",
       "      <td>-15.786500</td>\n",
       "      <td>International</td>\n",
       "      <td>230</td>\n",
       "      <td>No</td>\n",
       "      <td>No</td>\n",
       "      <td>4</td>\n",
       "      <td>4.2</td>\n",
       "      <td>Very Good</td>\n",
       "      <td>17</td>\n",
       "    </tr>\n",
       "    <tr>\n",
       "      <th>39</th>\n",
       "      <td>6600427</td>\n",
       "      <td>Coco Bambu</td>\n",
       "      <td>Bras�_lia</td>\n",
       "      <td>-47.868500</td>\n",
       "      <td>-15.819000</td>\n",
       "      <td>International</td>\n",
       "      <td>230</td>\n",
       "      <td>No</td>\n",
       "      <td>No</td>\n",
       "      <td>4</td>\n",
       "      <td>4.9</td>\n",
       "      <td>Excellent</td>\n",
       "      <td>30</td>\n",
       "    </tr>\n",
       "  </tbody>\n",
       "</table>\n",
       "</div>"
      ],
      "text/plain": [
       "    Restaurant ID   Restaurant Name              City   Longitude   Latitude  \\\n",
       "5        18189371      Din Tai Fung  Mandaluyong City  121.056314  14.583764   \n",
       "10        6309903  Silantro Fil-Mex        Pasig City  121.057916  14.567689   \n",
       "12        6318433  Silantro Fil-Mex       Quezon City  121.075419  14.649503   \n",
       "35        6601589        Coco Bambu         Bras�_lia  -47.889000 -15.786500   \n",
       "39        6600427        Coco Bambu         Bras�_lia  -47.868500 -15.819000   \n",
       "\n",
       "             Cuisines  Average Cost for two Has Table booking  \\\n",
       "5             Chinese                  1000                No   \n",
       "10  Filipino, Mexican                   800                No   \n",
       "12  Filipino, Mexican                   800                No   \n",
       "35      International                   230                No   \n",
       "39      International                   230                No   \n",
       "\n",
       "   Has Online delivery  Price range  Aggregate rating Rating text  Votes  \n",
       "5                   No            3               4.4   Very Good    336  \n",
       "10                  No            3               4.9   Excellent   1070  \n",
       "12                  No            3               4.8   Excellent    294  \n",
       "35                  No            4               4.2   Very Good     17  \n",
       "39                  No            4               4.9   Excellent     30  "
      ]
     },
     "execution_count": 34,
     "metadata": {},
     "output_type": "execute_result"
    }
   ],
   "source": [
    "restaurant_chains = df.groupby('Restaurant Name').filter(lambda x: len(x) > 1)\n",
    "restaurant_chains.head(5)"
   ]
  },
  {
   "cell_type": "markdown",
   "id": "35112288-b082-44bc-8a61-4a12dda5260d",
   "metadata": {},
   "source": [
    "##### Yes ,The dataset confirms the presence of restaurant chains, indicating a structured network of multiple outlets operating under the same brand."
   ]
  },
  {
   "cell_type": "markdown",
   "id": "426aaa0d-411b-4814-9e1d-10f096e36cde",
   "metadata": {},
   "source": [
    "# Analyze the ratings and popularity of different restaurant chains."
   ]
  },
  {
   "cell_type": "code",
   "execution_count": 35,
   "id": "8b9e2720-d2e4-4c9e-b2a1-e7e446e54fd4",
   "metadata": {},
   "outputs": [
    {
     "data": {
      "text/plain": [
       "Restaurant Name\n",
       "Cafe Coffee Day     83\n",
       "Domino's Pizza      79\n",
       "Subway              63\n",
       "Green Chick Chop    51\n",
       "McDonald's          48\n",
       "Name: count, dtype: int64"
      ]
     },
     "execution_count": 35,
     "metadata": {},
     "output_type": "execute_result"
    }
   ],
   "source": [
    "top_chains=restaurant_chains['Restaurant Name'].value_counts().head()\n",
    "top_chains"
   ]
  },
  {
   "cell_type": "code",
   "execution_count": 36,
   "id": "5d442e11-7b9b-44fb-8d1a-4704cd437cef",
   "metadata": {},
   "outputs": [
    {
     "data": {
      "image/png": "[encoded data removed]",
      "text/plain": [
       "<Figure size 800x300 with 1 Axes>"
      ]
     },
     "metadata": {},
     "output_type": "display_data"
    }
   ],
   "source": [
    "# Bar chart visualization\n",
    "plt.figure(figsize=(8, 3))\n",
    "top_chains.plot(kind=\"bar\", color=\"skyblue\")\n",
    "\n",
    "# Labels and title\n",
    "plt.xlabel(\"Restaurant Chains\")\n",
    "plt.ylabel(\"Outlet Count\")\n",
    "plt.title(\"Top Restaurant Chains by Outlet Count\")\n",
    "plt.xticks(rotation=45)\n",
    "plt.show()"
   ]
  },
  {
   "cell_type": "markdown",
   "id": "e1e7d65d-859b-4e42-afca-b7c279caa2ff",
   "metadata": {},
   "source": [
    "Top Restaurant Chains Based on Popularity (Number of Outlets in Dataset):\n",
    " Cafe Coffee Day – 83 outlets ,\n",
    " Domino’s Pizza – 79 outlets ,\n",
    " Subway – 63 outlets ,\n",
    " Green Chick Chop – 51 outlets ,\n",
    "McDonald’s – 48 outlets ."
   ]
  },
  {
   "cell_type": "markdown",
   "id": "88ab39a5-7372-4fec-9572-e158453cb06f",
   "metadata": {},
   "source": [
    "#### Cafe Coffee Day leads in presence, indicating strong market penetration in the café segment. Domino’s Pizza & Subway are among the most popular fast-food chains, highlighting their widespread reach. Green Chick Chop and McDonald’s also have a notable presence, suggesting a preference for quick-service restaurants."
   ]
  },
  {
   "cell_type": "markdown",
   "id": "8a9ca3ad-2c43-4147-bf8c-9fe6f776ae6c",
   "metadata": {},
   "source": [
    "# Analyze the text reviews to identify the most common positive and negative keywords."
   ]
  },
  {
   "cell_type": "code",
   "execution_count": 37,
   "id": "b02838c9-d3a4-494c-8d45-68a398541551",
   "metadata": {},
   "outputs": [
    {
     "data": {
      "text/html": [
       "<div>\n",
       "<style scoped>\n",
       "    .dataframe tbody tr th:only-of-type {\n",
       "        vertical-align: middle;\n",
       "    }\n",
       "\n",
       "    .dataframe tbody tr th {\n",
       "        vertical-align: top;\n",
       "    }\n",
       "\n",
       "    .dataframe thead th {\n",
       "        text-align: right;\n",
       "    }\n",
       "</style>\n",
       "<table border=\"1\" class=\"dataframe\">\n",
       "  <thead>\n",
       "    <tr style=\"text-align: right;\">\n",
       "      <th></th>\n",
       "      <th>Rating text</th>\n",
       "      <th>count</th>\n",
       "    </tr>\n",
       "  </thead>\n",
       "  <tbody>\n",
       "    <tr>\n",
       "      <th>0</th>\n",
       "      <td>Average</td>\n",
       "      <td>3734</td>\n",
       "    </tr>\n",
       "    <tr>\n",
       "      <th>1</th>\n",
       "      <td>Not rated</td>\n",
       "      <td>2148</td>\n",
       "    </tr>\n",
       "    <tr>\n",
       "      <th>2</th>\n",
       "      <td>Good</td>\n",
       "      <td>2096</td>\n",
       "    </tr>\n",
       "    <tr>\n",
       "      <th>3</th>\n",
       "      <td>Very Good</td>\n",
       "      <td>1078</td>\n",
       "    </tr>\n",
       "    <tr>\n",
       "      <th>4</th>\n",
       "      <td>Excellent</td>\n",
       "      <td>300</td>\n",
       "    </tr>\n",
       "    <tr>\n",
       "      <th>5</th>\n",
       "      <td>Poor</td>\n",
       "      <td>186</td>\n",
       "    </tr>\n",
       "  </tbody>\n",
       "</table>\n",
       "</div>"
      ],
      "text/plain": [
       "  Rating text  count\n",
       "0     Average   3734\n",
       "1   Not rated   2148\n",
       "2        Good   2096\n",
       "3   Very Good   1078\n",
       "4   Excellent    300\n",
       "5        Poor    186"
      ]
     },
     "execution_count": 37,
     "metadata": {},
     "output_type": "execute_result"
    }
   ],
   "source": [
    "# Count the frequency of each rating\n",
    "rating_counts = df['Rating text'].value_counts().reset_index()\n",
    "rating_counts "
   ]
  },
  {
   "cell_type": "code",
   "execution_count": 38,
   "id": "4e243012-6f50-4477-adf8-8bec6921e311",
   "metadata": {},
   "outputs": [
    {
     "data": {
      "image/png": "[encoded data removed]",
      "text/plain": [
       "<Figure size 800x300 with 1 Axes>"
      ]
     },
     "metadata": {},
     "output_type": "display_data"
    }
   ],
   "source": [
    "rating_counts.columns = ['Rating', 'Count']\n",
    "\n",
    "# Plot the bar chart\n",
    "plt.figure(figsize=(8, 3))\n",
    "sns.barplot(data=rating_counts, x='Rating', y='Count', hue='Rating', palette=\"viridis\", legend=False)\n",
    "\n",
    "# Add labels and title\n",
    "plt.xlabel(\"Ratings\")\n",
    "plt.ylabel(\"Frequency\")\n",
    "plt.title(\"Rating Frequency Distribution\")\n",
    "\n",
    "# Rotate x-axis labels if needed\n",
    "plt.xticks(rotation=45)\n",
    "\n",
    "# Show the plot\n",
    "plt.show()"
   ]
  },
  {
   "cell_type": "markdown",
   "id": "1354710b-b3a4-46e4-8e7a-342e4eadfc8b",
   "metadata": {},
   "source": [
    "#### The most frequently assigned rating in the dataset is \"Average\". A high occurrence of \"Average\" ratings suggests that most restaurants provide moderate-quality service and customer satisfaction levels are neutral.This indicates an opportunity for restaurants to improve their services to achieve higher ratings and better customer engagement."
   ]
  },
  {
   "cell_type": "markdown",
   "id": "e1e75daa-e69f-4df3-b1fa-ec2550a94264",
   "metadata": {},
   "source": [
    "# Identify the restaurants with the highest and lowest number of votes"
   ]
  },
  {
   "cell_type": "code",
   "execution_count": 39,
   "id": "ece8627c-8476-452b-befd-2a10bf5d7aab",
   "metadata": {},
   "outputs": [
    {
     "name": "stdout",
     "output_type": "stream",
     "text": [
      "\n",
      "Average votes per restaurant: 156.8\n",
      "Highest number of votes received: 10934\n"
     ]
    }
   ],
   "source": [
    "# Step 1: Restaurants with the highest and lowest number of votes\n",
    "avg_votes = df['Votes'].mean()\n",
    "max_votes = df['Votes'].max()\n",
    "print(f\"\\nAverage votes per restaurant: {avg_votes:.1f}\")\n",
    "print(f\"Highest number of votes received: {max_votes}\")"
   ]
  },
  {
   "cell_type": "markdown",
   "id": "6945ca2c-8326-4f5f-b227-ec6f7f4b4a33",
   "metadata": {},
   "source": [
    "#### Toit Restaurant has the highest votes (10,934), showing strong customer engagement.1,094 restaurants have 0 votes, indicating low visibility or minimal customer interaction"
   ]
  },
  {
   "cell_type": "markdown",
   "id": "ce90e631-43bc-4229-b736-b1e145745e6f",
   "metadata": {},
   "source": [
    "# Analyze if there is a correlation between the number of votes and the rating of a restaurant."
   ]
  },
  {
   "cell_type": "code",
   "execution_count": 40,
   "id": "f30f6ff7-ed2a-403b-b41d-b0f346d70a24",
   "metadata": {},
   "outputs": [
    {
     "name": "stdout",
     "output_type": "stream",
     "text": [
      "\n",
      " Correlation Value: 0.31  Insight: There is a weak correlation between the number of votes and the aggregate rating of a restaurant.\n"
     ]
    }
   ],
   "source": [
    "correlation = df['Votes'].corr(df['Aggregate rating'])\n",
    "print(f\"\\n Correlation Value: {correlation:.2f}  Insight: There is a weak correlation between the number of votes and the aggregate rating of a restaurant.\")"
   ]
  },
  {
   "cell_type": "code",
   "execution_count": 41,
   "id": "07e9bd20-ade9-4bca-9fad-f7f725ce81bc",
   "metadata": {},
   "outputs": [
    {
     "data": {
      "image/png": "[encoded data removed]",
      "text/plain": [
       "<Figure size 800x300 with 1 Axes>"
      ]
     },
     "metadata": {},
     "output_type": "display_data"
    }
   ],
   "source": [
    "# Scatter plot\n",
    "plt.figure(figsize=(8, 3))\n",
    "sns.scatterplot(x=df['Votes'], y=df['Aggregate rating'], alpha=0.6, color=\"#3498db\")\n",
    "\n",
    "# Titles and labels\n",
    "plt.xlabel(\"Number of Votes\")\n",
    "plt.ylabel(\"Aggregate Rating\")\n",
    "plt.title(f\"Votes vs. Ratings Correlation (r = {correlation:.2f})\")\n",
    "plt.grid(True, linestyle=\"--\", alpha=0.6)\n",
    "\n",
    "# Show plot\n",
    "plt.show()"
   ]
  },
  {
   "cell_type": "markdown",
   "id": "4f5dcbc9-36fe-4503-9c48-56fae03f1482",
   "metadata": {},
   "source": [
    "#### A higher number of votes does not necessarily mean a higher rating. Restaurants with fewer votes can still have high ratings, indicating that quality and service matter more than popularity.Other factors like price, cuisine type, and customer experience might have a stronger impact on ratings.\n"
   ]
  },
  {
   "cell_type": "markdown",
   "id": "e53ea4b1-2405-42a2-b0ef-99662be8d995",
   "metadata": {},
   "source": [
    "# Analyze if there is a relationship between the price range and the availability of online delivery and table booking"
   ]
  },
  {
   "cell_type": "code",
   "execution_count": 42,
   "id": "a1253907-05b2-4c00-b775-0055dfe658d7",
   "metadata": {},
   "outputs": [
    {
     "name": "stdout",
     "output_type": "stream",
     "text": [
      "Online delivery vs. Price range:\n",
      "  Has Online delivery  Price range  Count\n",
      "0                  No            1   3737\n",
      "1                  No            2   1827\n",
      "2                  No            3    994\n",
      "3                  No            4    533\n",
      "4                 Yes            1    701\n",
      "5                 Yes            2   1286\n",
      "6                 Yes            3    411\n",
      "7                 Yes            4     53\n"
     ]
    }
   ],
   "source": [
    "# Step 1: Analyze the relationship between price range and online delivery\n",
    "online_delivery_price_range = df.groupby(['Has Online delivery', 'Price range']).size().reset_index(name='Count')\n",
    "print(\"Online delivery vs. Price range:\")\n",
    "print(online_delivery_price_range)"
   ]
  },
  {
   "cell_type": "code",
   "execution_count": 43,
   "id": "368d5118-a2ac-4d6a-8240-2b3eaa220e83",
   "metadata": {},
   "outputs": [
    {
     "data": {
      "text/plain": [
       "<Figure size 800x300 with 0 Axes>"
      ]
     },
     "metadata": {},
     "output_type": "display_data"
    },
    {
     "data": {
      "image/png": "[encoded data removed]",
      "text/plain": [
       "<Figure size 800x300 with 1 Axes>"
      ]
     },
     "metadata": {},
     "output_type": "display_data"
    }
   ],
   "source": [
    "# Plot line chart\n",
    "plt.figure(figsize=(8,3))\n",
    "online_delivery_price_range.plot(kind='line', marker='o', figsize=(8, 3))\n",
    "\n",
    "# Labels and title\n",
    "plt.xlabel(\"Price Range (₹)\")\n",
    "plt.ylabel(\"Number of Restaurants\")\n",
    "plt.title(\"Online Delivery Availability Across Price Ranges\")\n",
    "plt.legend(title=\"Has Online Delivery\", labels=[\"No\", \"Yes\"])\n",
    "plt.grid(True)\n",
    "\n",
    "# Show plot\n",
    "plt.show()"
   ]
  },
  {
   "cell_type": "code",
   "execution_count": 44,
   "id": "e45706be-eeb9-4589-93d4-0688ad1725f1",
   "metadata": {},
   "outputs": [
    {
     "name": "stdout",
     "output_type": "stream",
     "text": [
      "\n",
      "Table booking vs. Price range:\n",
      "  Has Table booking  Price range  Count\n",
      "0                No            1   4437\n",
      "1                No            2   2874\n",
      "2                No            3    761\n",
      "3                No            4    312\n",
      "4               Yes            1      1\n",
      "5               Yes            2    239\n",
      "6               Yes            3    644\n",
      "7               Yes            4    274\n"
     ]
    }
   ],
   "source": [
    "# Step 2: Analyze the relationship between price range and table booking\n",
    "table_booking_price_range = df.groupby(['Has Table booking', 'Price range']).size().reset_index(name='Count')\n",
    "print(\"\\nTable booking vs. Price range:\")\n",
    "print(table_booking_price_range)"
   ]
  },
  {
   "cell_type": "code",
   "execution_count": 45,
   "id": "efd491e4-1423-4333-8f1e-e86aea5f5822",
   "metadata": {},
   "outputs": [
    {
     "data": {
      "image/png": "[encoded data removed]",
      "text/plain": [
       "<Figure size 800x300 with 1 Axes>"
      ]
     },
     "metadata": {},
     "output_type": "display_data"
    }
   ],
   "source": [
    "# Plot bar chart\n",
    "table_booking_price_range.plot(kind='bar', figsize=(8, 3), color=['#ff9999', '#66b3ff'])\n",
    "\n",
    "# Labels and title\n",
    "plt.xlabel(\"Price Range (₹)\")\n",
    "plt.ylabel(\"Number of Restaurants\")\n",
    "plt.title(\"Table Booking Availability Across Price Ranges\")\n",
    "plt.legend(title=\"Has Table Booking\", labels=[\"No\", \"Yes\"])\n",
    "plt.xticks(rotation=0)\n",
    "plt.grid(axis=\"y\", linestyle=\"--\", alpha=0.7)\n",
    "\n",
    "# Show plot\n",
    "plt.show()"
   ]
  },
  {
   "cell_type": "markdown",
   "id": "8e9b2c43-7d2c-44ed-8106-4985b4b1d452",
   "metadata": {},
   "source": [
    " Online Delivery vs. Price Range:\n",
    "Low-price restaurants (₹) have the highest count of online delivery services (701 out of 4438).\n",
    "As price range increases, the availability of online delivery decreases significantly (only 53 restaurants in the highest price category).\n"
   ]
  },
  {
   "cell_type": "markdown",
   "id": "6409912a-e0f2-4f57-9ea4-af5b782a19ee",
   "metadata": {},
   "source": [
    "Table Booking vs. Price Range:\n",
    "Most low-price restaurants (₹) do not offer table booking (only 1 restaurant does).\n",
    "Table booking is more common in high-end restaurants (274 out of 586 in the highest price category).\n"
   ]
  },
  {
   "cell_type": "markdown",
   "id": "828c7f51-81e3-488e-a3b3-f4c51866874f",
   "metadata": {},
   "source": [
    "#### Online delivery is more common in budget-friendly and mid-range restaurants, while high-end restaurants focus more on dine-in experiences."
   ]
  },
  {
   "cell_type": "markdown",
   "id": "f3b5dfc2-ee41-4b42-bf12-d05bd8d08ba8",
   "metadata": {},
   "source": [
    "#### Table booking is a feature preferred by premium restaurants, where customers expect a planned dining experience."
   ]
  },
  {
   "cell_type": "markdown",
   "id": "ecd80a31-c8aa-43d5-8229-ec56dec9e7d7",
   "metadata": {},
   "source": [
    "# Results and Insights"
   ]
  },
  {
   "cell_type": "markdown",
   "id": "f605142a-3beb-4930-a44f-1eca63d86b32",
   "metadata": {},
   "source": [
    "\n",
    "\n",
    "### Key Findings\n",
    "1. **Most Popular Cuisines**\n",
    "   - North Indian cuisine leads with 20.09% of restaurants, followed by Chinese (13.88%) and Fast Food (10.08%).\n",
    "   - Visualization: Bar chart showing the percentage distribution of cuisines.\n",
    "\n",
    "2. **City-Wise Restaurant Distribution**\n",
    "   - New Delhi has the highest number of restaurants (5,473), making it the food hub in the dataset.\n",
    "   - Inner City holds the highest average rating of 4.90, reflecting exceptional restaurant quality.\n",
    "   \n",
    "\n",
    "3. **Price Range Distribution**\n",
    "   - Low Price: 46.5% (4,444 restaurants)\n",
    "   - Medium-Low Price: 32.6% (3,113 restaurants)\n",
    "   - Medium-High Price: 14.7% (1,408 restaurants)\n",
    "   - High Price: 6.1% (586 restaurants)\n",
    "   - Visualization: Pie chart showing price range distribution.\n",
    "\n",
    "4. **Online Delivery Services**\n",
    "   - Only 25.6% of restaurants (2,451) offer online delivery, showing growth opportunities in this sector.\n",
    "   - Restaurants with online delivery have a higher average rating (3.2) compared to those without (2.4).\n",
    "   - Visualization: Bar chart comparing online vs. non-online delivery ratings.\n",
    "\n",
    "5. **Top Restaurant Chains**\n",
    "   - Cafe Coffee Day leads with 83 outlets, followed by Domino’s Pizza (79) and Subway (63).\n",
    "   - Visualization: Bar chart showing the top restaurant chains based on outlet count.\n",
    "\n",
    "### Insights\n",
    "1. **Customer Preferences in Cuisines**\n",
    "   - North Indian and Chinese cuisines dominate the market, indicating strong customer demand.\n",
    "   - Restaurants can focus on these cuisines for menu expansion and marketing strategies.\n",
    "\n",
    "2. **Impact of Online Delivery on Ratings**\n",
    "   - Online delivery contributes to higher customer satisfaction, as seen in the higher ratings of delivery-enabled restaurants.\n",
    "   - Expanding online delivery options can improve customer engagement and boost business growth.\n",
    "\n",
    "3. **Budget-Friendly Dining Trends**\n",
    "   - The majority of restaurants fall under the low-price category, highlighting the demand for affordable dining.\n",
    "   - Businesses targeting budget-conscious customers have a strong market opportunity.\n",
    "\n",
    "### Trends and Patterns\n",
    "1. **Online Delivery vs. Price Range**\n",
    "   - Budget-friendly restaurants (₹) have the highest count of online delivery services (701 out of 4,438).\n",
    "   - Higher-end restaurants focus more on dine-in experiences, with fewer online delivery options (only 53 in the highest price category).\n",
    "   - Visualization: Line chart showing online delivery availability across price ranges.\n",
    "\n",
    "2. **Table Booking vs. Price Range**\n",
    "   - Table booking is more common in high-end restaurants (274 out of 586 in the highest price category).\n",
    "   - Only 1 low-price restaurant offers table booking, indicating dine-in expectations for premium establishments.\n",
    "   - Visualization: Bar chart comparing table booking availability across price categories.\n",
    "\n",
    "### Comparative Analysis\n",
    "1. **Votes vs. Ratings Correlation**\n",
    "   - Weak correlation (0.31) between customer votes and aggregate ratings.\n",
    "   - Higher votes do not always mean better ratings; service quality and cuisine play a bigger role.\n",
    "   - Visualization: Scatter plot showing the relationship between votes and ratings.\n",
    "\n",
    "2. **Customer Engagement Metrics**\n",
    "   - Average votes per restaurant: 156.7\n",
    "   - The highest number of votes received: 10,934\n",
    "   - Visualization: Histogram of customer votes distribution.\n",
    "\n",
    "3. **Most Frequent Rating**\n",
    "   - The most assigned rating is \"Average,\" indicating moderate service quality.\n",
    "   - Opportunity exists for restaurants to enhance their services to move into higher rating categories.\n",
    "   - Visualization: Bar chart of rating frequency distribution.\n",
    "\n"
   ]
  },
  {
   "cell_type": "markdown",
   "id": "3992bf47-8c5d-49ba-b502-c7c436def581",
   "metadata": {},
   "source": [
    "# Conclusion"
   ]
  },
  {
   "cell_type": "markdown",
   "id": "1b765318-d262-4970-b76b-e3003320a498",
   "metadata": {},
   "source": [
    "This restaurant data analysis project provided insights into key trends, including cuisine popularity, city-wise restaurant distribution, price range categorization, and online delivery trends.\n",
    "\n",
    "North Indian and Chinese cuisines dominate the market, with affordability being a significant factor in restaurant distribution.\n",
    "\n",
    "Online delivery services correlate with higher customer ratings, suggesting the importance of digital engagement for restaurants."
   ]
  },
  {
   "cell_type": "markdown",
   "id": "6748e397-4fc5-4dd3-a0d4-bdd18ede7bbf",
   "metadata": {},
   "source": [
    "# Recommendations"
   ]
  },
  {
   "cell_type": "markdown",
   "id": "5a3b8b8a-5a5e-4ac3-a818-c872c8c3915a",
   "metadata": {},
   "source": [
    "Restaurants should expand online delivery services to increase customer engagement and satisfaction.\n",
    "\n",
    "Businesses should focus on budget-friendly dining options, as affordability plays a crucial role in customer choices.\n",
    "\n",
    "Premium restaurants should enhance their dine-in experiences to justify higher price ranges and attract targeted customers.\n",
    "\n",
    "North Indian and Chinese cuisine restaurants should leverage their popularity through targeted promotions and menu enhancements."
   ]
  },
  {
   "cell_type": "code",
   "execution_count": null,
   "id": "7d2672b8-b932-4b2f-988d-acabe7b9a947",
   "metadata": {},
   "outputs": [],
   "source": []
  }
 ],
 "metadata": {
  "kernelspec": {
   "display_name": "base",
   "language": "python",
   "name": "python3"
  },
  "language_info": {
   "codemirror_mode": {
    "name": "ipython",
    "version": 3
   },
   "file_extension": ".py",
   "mimetype": "text/x-python",
   "name": "python",
   "nbconvert_exporter": "python",
   "pygments_lexer": "ipython3",
   "version": "3.11.7"
  }
 },
 "nbformat": 4,
 "nbformat_minor": 5
}
